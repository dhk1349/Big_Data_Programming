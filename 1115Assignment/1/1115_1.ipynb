{
 "cells": [
  {
   "cell_type": "code",
   "execution_count": 34,
   "metadata": {},
   "outputs": [],
   "source": [
    "import pandas as pd\n",
    "import numpy as np"
   ]
  },
  {
   "cell_type": "code",
   "execution_count": 34,
   "metadata": {},
   "outputs": [],
   "source": [
    "import pandas as pd\n",
    "import numpy as np"
   ]
  },
  {
   "cell_type": "code",
   "execution_count": 35,
   "metadata": {},
   "outputs": [],
   "source": [
    "path='/Users/donghoon/Desktop/KHU/3-2/Lecture/빅데이터프로그래밍/1115Assignment/'\n",
    "file_name=path+'airbnb.csv'\n",
    "df_air=pd.read_csv(file_name)"
   ]
  },
  {
   "cell_type": "code",
   "execution_count": 36,
   "metadata": {},
   "outputs": [],
   "source": [
    "data=list(df_air['overall_satisfaction'].fillna(0)+0.378*df_air['reviews'].fillna(0))"
   ]
  },
  {
   "cell_type": "code",
   "execution_count": 37,
   "metadata": {},
   "outputs": [],
   "source": [
    "indx=[]\n",
    "for i in range(len(list(df_air['room_id']))):\n",
    "    temp=(list(df_air['room_id'])[i],list(df_air['host_id'])[i])\n",
    "    indx.append(temp)"
   ]
  },
  {
   "cell_type": "code",
   "execution_count": 38,
   "metadata": {},
   "outputs": [],
   "source": [
    "df_air1=pd.DataFrame(list(data), index=indx, columns=['total_score'])\n",
    "df_air1.index.name=\"(room_id, host_id)\""
   ]
  },
  {
   "cell_type": "code",
   "execution_count": 44,
   "metadata": {},
   "outputs": [
    {
     "data": {
      "text/html": [
       "<div>\n",
       "<style scoped>\n",
       "    .dataframe tbody tr th:only-of-type {\n",
       "        vertical-align: middle;\n",
       "    }\n",
       "\n",
       "    .dataframe tbody tr th {\n",
       "        vertical-align: top;\n",
       "    }\n",
       "\n",
       "    .dataframe thead th {\n",
       "        text-align: right;\n",
       "    }\n",
       "</style>\n",
       "<table border=\"1\" class=\"dataframe\">\n",
       "  <thead>\n",
       "    <tr style=\"text-align: right;\">\n",
       "      <th></th>\n",
       "      <th>total_score</th>\n",
       "    </tr>\n",
       "    <tr>\n",
       "      <th>(room_id, host_id)</th>\n",
       "      <th></th>\n",
       "    </tr>\n",
       "  </thead>\n",
       "  <tbody>\n",
       "    <tr>\n",
       "      <td>(66288, 324630)</td>\n",
       "      <td>149.530</td>\n",
       "    </tr>\n",
       "    <tr>\n",
       "      <td>(414419, 2027295)</td>\n",
       "      <td>111.474</td>\n",
       "    </tr>\n",
       "    <tr>\n",
       "      <td>(1497879, 2776892)</td>\n",
       "      <td>110.718</td>\n",
       "    </tr>\n",
       "    <tr>\n",
       "      <td>(31796, 119019)</td>\n",
       "      <td>103.536</td>\n",
       "    </tr>\n",
       "    <tr>\n",
       "      <td>(916123, 3637081)</td>\n",
       "      <td>98.622</td>\n",
       "    </tr>\n",
       "    <tr>\n",
       "      <td>...</td>\n",
       "      <td>...</td>\n",
       "    </tr>\n",
       "    <tr>\n",
       "      <td>(13002808, 67536196)</td>\n",
       "      <td>0.000</td>\n",
       "    </tr>\n",
       "    <tr>\n",
       "      <td>(12586305, 34832265)</td>\n",
       "      <td>0.000</td>\n",
       "    </tr>\n",
       "    <tr>\n",
       "      <td>(12969495, 4605418)</td>\n",
       "      <td>0.000</td>\n",
       "    </tr>\n",
       "    <tr>\n",
       "      <td>(11389072, 1997048)</td>\n",
       "      <td>0.000</td>\n",
       "    </tr>\n",
       "    <tr>\n",
       "      <td>(12246137, 30283594)</td>\n",
       "      <td>0.000</td>\n",
       "    </tr>\n",
       "  </tbody>\n",
       "</table>\n",
       "<p>3277 rows × 1 columns</p>\n",
       "</div>"
      ],
      "text/plain": [
       "                      total_score\n",
       "(room_id, host_id)               \n",
       "(66288, 324630)           149.530\n",
       "(414419, 2027295)         111.474\n",
       "(1497879, 2776892)        110.718\n",
       "(31796, 119019)           103.536\n",
       "(916123, 3637081)          98.622\n",
       "...                           ...\n",
       "(13002808, 67536196)        0.000\n",
       "(12586305, 34832265)        0.000\n",
       "(12969495, 4605418)         0.000\n",
       "(11389072, 1997048)         0.000\n",
       "(12246137, 30283594)        0.000\n",
       "\n",
       "[3277 rows x 1 columns]"
      ]
     },
     "execution_count": 44,
     "metadata": {},
     "output_type": "execute_result"
    }
   ],
   "source": [
    "df_air1_ascd=df_air1.sort_values(by=['total_score'])\n",
    "df_air1_dscd=df_air1.sort_values(by=['total_score'], ascending=False)"
   ]
  },
  {
   "cell_type": "code",
   "execution_count": 45,
   "metadata": {},
   "outputs": [],
   "source": [
    "df_air1_ascd.to_csv(\"sorted_total_score_ascend.csv\")\n",
    "df_air1_dscd.to_csv(\"sorted_total_score_descend.csv\")"
   ]
  }
 ],
 "metadata": {
  "kernelspec": {
   "display_name": "Python 3",
   "language": "python",
   "name": "python3"
  },
  "language_info": {
   "codemirror_mode": {
    "name": "ipython",
    "version": 3
   },
   "file_extension": ".py",
   "mimetype": "text/x-python",
   "name": "python",
   "nbconvert_exporter": "python",
   "pygments_lexer": "ipython3",
   "version": "3.7.4"
  }
 },
 "nbformat": 4,
 "nbformat_minor": 2
}
